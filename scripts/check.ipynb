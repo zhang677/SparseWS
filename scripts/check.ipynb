{
 "cells": [
  {
   "cell_type": "code",
   "execution_count": 29,
   "metadata": {},
   "outputs": [],
   "source": [
    "from scipy.io import mmread, mminfo\n",
    "import numpy as np\n",
    "\n",
    "name = \"sts4098\"\n",
    "filename1 = f\"/home/eva_share/datasets/sparse_mat/{name}/{name}.mtx\"\n",
    "filename2 = f\"/home/eva_share/datasets/sparse_mat_t/{name}-st.mtx\"\n",
    "#filename1 = \"/home/nfs_data/zhanggh/SparseWS/data/origin/16-16-0.1.mtx\"\n",
    "#filename2 = \"/home/nfs_data/zhanggh/SparseWS/data/shift/16-16-0.1-st.mtx\"\n",
    "A = mmread(filename1)\n",
    "B = mmread(filename2)\n",
    "C = (A * B).transpose().tocsr()\n"
   ]
  },
  {
   "cell_type": "code",
   "execution_count": 28,
   "metadata": {},
   "outputs": [
    {
     "name": "stdout",
     "output_type": "stream",
     "text": [
      "[ 2  5  2  3 10 15  0  3  4 11 14  2  8  9  3  7 10 14  0  4 14  2  5  9\n",
      "  2  3  5  9 10 13  3  2  7  2  4  5  8  9 14]\n",
      "[ 0  2  2  6 11 14 18 18 21 24 30 31 32 32 33 39 39]\n",
      "[1.5722  0.3484  0.6834  1.7958  2.509   0.7504  1.5674  0.475   0.1139\n",
      " 0.06884 0.9162  1.5722  0.7872  0.2122  1.7958  0.6592  1.7782  0.8098\n",
      " 0.963   0.15272 2.7322  0.03752 1.025   1.7312  0.03752 1.7958  1.025\n",
      " 1.7312  1.7782  0.4122  0.475   1.5722  1.6304  1.5722  0.15272 0.3484\n",
      " 0.7872  0.2122  0.9986 ]\n"
     ]
    }
   ],
   "source": [
    "print(C.indices)\n",
    "print(C.indptr)\n",
    "print(C.data)"
   ]
  },
  {
   "cell_type": "code",
   "execution_count": 31,
   "metadata": {},
   "outputs": [
    {
     "name": "stdout",
     "output_type": "stream",
     "text": [
      "72356\n",
      "72356\n",
      "681156\n"
     ]
    }
   ],
   "source": [
    "print(len(A.data))\n",
    "print(len(B.data))\n",
    "print(C.getnnz())"
   ]
  }
 ],
 "metadata": {
  "kernelspec": {
   "display_name": "gnn-dgl",
   "language": "python",
   "name": "python3"
  },
  "language_info": {
   "codemirror_mode": {
    "name": "ipython",
    "version": 3
   },
   "file_extension": ".py",
   "mimetype": "text/x-python",
   "name": "python",
   "nbconvert_exporter": "python",
   "pygments_lexer": "ipython3",
   "version": "3.10.8"
  },
  "orig_nbformat": 4
 },
 "nbformat": 4,
 "nbformat_minor": 2
}
